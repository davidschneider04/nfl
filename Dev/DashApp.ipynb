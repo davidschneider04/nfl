{
 "cells": [
  {
   "cell_type": "code",
   "execution_count": 1,
   "metadata": {},
   "outputs": [],
   "source": [
    "import re\n",
    "\n",
    "import dash\n",
    "import dash_core_components as dcc\n",
    "import dash_html_components as html\n",
    "from dash.dependencies import Input, Output, State\n",
    "import matplotlib\n",
    "from matplotlib import cm\n",
    "import numpy as np\n",
    "import pandas as pd\n",
    "import plotly.graph_objs as go\n",
    "import plotly.figure_factory as ff"
   ]
  },
  {
   "cell_type": "code",
   "execution_count": 2,
   "metadata": {},
   "outputs": [],
   "source": [
    "# dev\n",
    "pd.set_option('display.max_rows', 500)"
   ]
  },
  {
   "cell_type": "code",
   "execution_count": 3,
   "metadata": {},
   "outputs": [],
   "source": [
    "# read initial data\n",
    "df = pd.read_csv('/Users/kutch/nfl/2018_data.csv'\n",
    "                 ,index_col=False\n",
    "                 ,low_memory=False)\n",
    "df.drop('Unnamed: 0', axis=1, inplace=True)"
   ]
  },
  {
   "cell_type": "code",
   "execution_count": 4,
   "metadata": {},
   "outputs": [],
   "source": [
    "# global dash attributes\n",
    "app = dash.Dash(__name__)\n",
    "app.title = \"NFL Plotting with Dash\""
   ]
  },
  {
   "cell_type": "code",
   "execution_count": 5,
   "metadata": {},
   "outputs": [],
   "source": [
    "# make a green->yellow->red colormap for plotly/dash\n",
    "grrd_cmap = matplotlib.cm.get_cmap('RdYlGn').reversed()\n",
    "grrd_rgb = []\n",
    "norm = matplotlib.colors.Normalize(vmin=0, vmax=255)\n",
    "for i in range(0, 255):\n",
    "    k = matplotlib.colors.colorConverter.to_rgb(grrd_cmap(norm(i)))\n",
    "    grrd_rgb.append(k)\n",
    "def matplotlib_to_plotly(cmap, pl_entries):\n",
    "    h = 1.0/(pl_entries-1)\n",
    "    pl_colorscale = []\n",
    "    for k in range(pl_entries):\n",
    "        C = list(map(np.uint8, np.array(cmap(k*h)[:3])*255))\n",
    "        pl_colorscale.append([k*h, 'rgb'+str((C[0], C[1], C[2]))])\n",
    "    return pl_colorscale\n",
    "grrd = matplotlib_to_plotly(grrd_cmap, 255)"
   ]
  },
  {
   "cell_type": "code",
   "execution_count": 6,
   "metadata": {},
   "outputs": [],
   "source": [
    "team_abbrevs = {'ARI': 'Arizona Cardinals'\n",
    "               ,'ATL': 'Atlanta Falcons'\n",
    "               ,'BAL': 'Baltimore Ravens'\n",
    "               ,'BUF': 'Buffalo Bills'\n",
    "               ,'CAR': 'Carolina Panthers'\n",
    "               ,'CHI': 'Chicago Bears'\n",
    "               ,'CIN': 'Cincinnati Bengals'\n",
    "               ,'CLE': 'Cleveland Browns'\n",
    "               ,'DAL': 'Dallas Cowboys'\n",
    "               ,'DEN': 'Denver Broncos'\n",
    "               ,'DET': 'Detroit Lions'\n",
    "               ,'GB': 'Green Bay Packers'\n",
    "               ,'HOU': 'Houston Texans'\n",
    "               ,'IND': 'Indianapolis Colts'\n",
    "               ,'JAX': 'Jacksonville Jaguars'\n",
    "               ,'KC': 'Kansas City Chiefs'\n",
    "               ,'LA': 'Los Angeles Rams'\n",
    "               ,'LAC': 'Los Angeles Chargers'\n",
    "               ,'MIA': 'Miami Dolphins'\n",
    "               ,'MIN': 'Minnesota Vikings'\n",
    "               ,'NE': 'New England Patriots'\n",
    "               ,'NO': 'New Orleans Saints'\n",
    "               ,'NYG': 'New York Giants'\n",
    "               ,'NYJ': 'New York Jets'\n",
    "               ,'OAK': 'Oakland Raiders'\n",
    "               ,'PHI': 'Philadelphia Eagles'\n",
    "               ,'PIT': 'Pittsburgh Steelers'\n",
    "               ,'SEA': 'Seattle Seahawks'\n",
    "               ,'SF': 'San Francisco 49ers'\n",
    "               ,'TB': 'Tampa Bay Buccaneers'\n",
    "               ,'TEN': 'Tennessee Titans'\n",
    "               ,'WAS': 'Washington Redskins'}"
   ]
  },
  {
   "cell_type": "code",
   "execution_count": 7,
   "metadata": {},
   "outputs": [],
   "source": [
    "# styling\n",
    "forestgreen = '#012800'\n",
    "green = '#024e00'\n",
    "lightgray = '#cfcfcf'\n",
    "white = '#fff'\n",
    "colors = {'background': forestgreen\n",
    "          ,'text': lightgray\n",
    "         }"
   ]
  },
  {
   "cell_type": "code",
   "execution_count": 8,
   "metadata": {},
   "outputs": [],
   "source": [
    "# dataframes for different graph options\n",
    "## penalty dataframe\n",
    "df_pen = df[[col for col in df.columns if re.search(\"(penalty)|(game\\_date)\", col) or col in ('posteam', 'defteam')]]\n",
    "df_pen['penalty_side'] = np.where(df['posteam']==df['penalty_team'], 'Offensive', 'Defensive')\n",
    "df_pen = df_pen[df_pen['penalty']==1.0].drop(['penalty_player_id'\n",
    "                                             ,'penalty'\n",
    "                                             ,'posteam'\n",
    "                                             ,'defteam']\n",
    "                                            ,axis=1)\n",
    "df_pen['penalty_type'].replace(to_replace=np.nan, value='Not Recorded', inplace=True)\n",
    "df_pen = df_pen.sort_values(['game_date'\n",
    "                             ,'penalty_team'\n",
    "                             ,'penalty_player_name'\n",
    "                             ,'penalty_yards'])\n",
    "df_pen = df_pen.reset_index(drop=True)"
   ]
  },
  {
   "cell_type": "code",
   "execution_count": 33,
   "metadata": {},
   "outputs": [],
   "source": [
    "### penalty breakouts\n",
    "pen_by_team = df_pen.groupby(['penalty_team'], as_index=False).sum().sort_values(['penalty_yards'])\n",
    "pen_by_team_offdef = df_pen.groupby(['penalty_team', 'penalty_side'], as_index=False).sum().sort_values(['penalty_yards'])\n",
    "pen_by_type = df_pen.groupby(['penalty_team', 'penalty_side', 'penalty_type'], as_index=False).sum().sort_values(['penalty_yards'])\n",
    "penalty_types = pen_by_type.drop_duplicates(subset=['penalty_side', 'penalty_type'])[['penalty_side','penalty_type']].sort_values(['penalty_side','penalty_type'])\n",
    "penalty_types = penalty_types.reset_index(drop=True)\n",
    "pen_by_team_game = df_pen.groupby(['penalty_team','game_date'], as_index=False).sum()\n",
    "pen_by_player = df_pen.groupby(['penalty_player_name'], as_index=False).sum()"
   ]
  },
  {
   "cell_type": "code",
   "execution_count": null,
   "metadata": {},
   "outputs": [],
   "source": [
    "# penalty graph\n",
    "app.layout = html.Div([\n",
    "    html.Div(id='page-content', children=[\n",
    "        html.H1(children=\"2018 NFL Play Breakdown\")\n",
    "        ,dcc.Graph(id='graph_pen_by_team'\n",
    "                   ,figure={'data': []} )\n",
    "        ,dcc.Dropdown(id='team_dropdown'\n",
    "                      ,options=[{'label': team_abbrevs[team], 'value': team} for team in pen_by_team['penalty_team'].unique()]\n",
    "                      ,value=[team for team in pen_by_team['penalty_team'].unique()]\n",
    "                      ,multi=True\n",
    "                      ,style={'background-color': '#012800'\n",
    "                              ,'color': '#cfcfcf'}\n",
    "                      ,placeholder=\"Filter by team(s)\" )\n",
    "        ,dcc.RadioItems(\n",
    "                id='penalty-side-radio'\n",
    "                ,options=[{'label': i, 'value': i} for i in\n",
    "                         ['All', 'Offensive', 'Defensive']]\n",
    "                ,value='All'\n",
    "                ,labelStyle={'display': 'inline-block'} )\n",
    "        ,dcc.Dropdown(id='penalty-type-dropdown'\n",
    "                      ,options=[{'label': pen_type, 'value': pen_type} for pen_type in pen_by_type['penalty_type'].unique()]\n",
    "                      ,value=[pen_type for pen_type in pen_by_type['penalty_type'].unique()]\n",
    "                      ,multi=True\n",
    "                      ,style={'background-color': '#012800'\n",
    "                              ,'color': '#cfcfcf'}\n",
    "                      ,placeholder=\"Type of penalty\" )\n",
    "    ])\n",
    "])\n",
    "\n",
    "@app.callback(\n",
    "    dash.dependencies.Output('graph_pen_by_team', 'figure')\n",
    "    ,[dash.dependencies.Input('team_dropdown', 'value')]\n",
    "    ,[dash.dependencies.State('penalty-side-radio', 'value')] )\n",
    "    #,[dash.dependencies.Input('penalty-type-dropdown', 'value')] )\n",
    "def team_penalty_figure(team_values, side_value):#, type_values):\n",
    "    traces = []\n",
    "    title = \"<b>Penalty Dashboard</b>\"\n",
    "    #print(type_values)\n",
    "    if side_value == 'All':\n",
    "        filtered_df = pen_by_team[pen_by_team['penalty_team'].isin(team_values)]\n",
    "    elif side_value in (['Offensive','Defensive']):\n",
    "        filtered_df = pen_by_team_offdef[(pen_by_team_offdef['penalty_team'].isin(team_values))\n",
    "                                       & (pen_by_team_offdef['penalty_side']==side_value)]\n",
    "        title += f'- {side_value}'\n",
    "    else:\n",
    "        raise ValueError\n",
    "    traces.append(go.Bar(x=filtered_df['penalty_team']\n",
    "                        ,y=filtered_df['penalty_yards']\n",
    "                        ,name='Selected Teams'\n",
    "                        ,marker={'color': filtered_df['penalty_yards']\n",
    "                                ,'colorscale': grrd}))\n",
    "    return {'data': traces\n",
    "        ,'layout': {'plot_bgcolor': colors['text']\n",
    "                    ,'paper_bgcolor': colors['text']\n",
    "                    ,'title': title\n",
    "                    ,'titlefont':dict(size=24, color='#565656', family='Arial, sans-serif')\n",
    "                   } }"
   ]
  },
  {
   "cell_type": "code",
   "execution_count": null,
   "metadata": {},
   "outputs": [],
   "source": [
    "if __name__ == '__main__':\n",
    "    app.run_server(debug=True)"
   ]
  }
 ],
 "metadata": {
  "kernelspec": {
   "display_name": "Python 3",
   "language": "python",
   "name": "python3"
  },
  "language_info": {
   "codemirror_mode": {
    "name": "ipython",
    "version": 3
   },
   "file_extension": ".py",
   "mimetype": "text/x-python",
   "name": "python",
   "nbconvert_exporter": "python",
   "pygments_lexer": "ipython3",
   "version": "3.7.3"
  }
 },
 "nbformat": 4,
 "nbformat_minor": 2
}
