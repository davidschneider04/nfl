{
 "cells": [
  {
   "cell_type": "code",
   "execution_count": 1,
   "metadata": {},
   "outputs": [],
   "source": [
    "import pandas as pd"
   ]
  },
  {
   "cell_type": "code",
   "execution_count": 2,
   "metadata": {},
   "outputs": [
    {
     "name": "stderr",
     "output_type": "stream",
     "text": [
      "/Users/kutch/.local/share/virtualenvs/env_django-ZXcG8Was/lib/python3.7/site-packages/IPython/core/interactiveshell.py:3018: DtypeWarning: Columns (43,168,169,170,171,180,181,184,185,190,191,192,193,200,201,202,203,204,205,206,207,209,211,213,228,229,230,231,232,233,234,235,236,238,239,240,242,243,251) have mixed types. Specify dtype option on import or set low_memory=False.\n",
      "  interactivity=interactivity, compiler=compiler, result=result)\n"
     ]
    }
   ],
   "source": [
    "# miss me w that shit theres 300 columns, im not specifying\n",
    "data = pd.read_csv('2018_data.csv')"
   ]
  },
  {
   "cell_type": "code",
   "execution_count": 9,
   "metadata": {},
   "outputs": [
    {
     "data": {
      "text/plain": [
       "Index(['yac_wpa', 'comp_air_wpa', 'comp_yac_wpa', 'total_home_comp_air_wpa',\n",
       "       'total_away_comp_air_wpa', 'total_home_comp_yac_wpa',\n",
       "       'total_away_comp_yac_wpa', 'total_home_raw_air_wpa',\n",
       "       'total_away_raw_air_wpa', 'total_home_raw_yac_wpa',\n",
       "       'total_away_raw_yac_wpa', 'punt_blocked', 'first_down_rush',\n",
       "       'first_down_pass', 'first_down_penalty', 'third_down_converted',\n",
       "       'third_down_failed', 'fourth_down_converted', 'fourth_down_failed',\n",
       "       'incomplete_pass', 'touchback', 'interception', 'punt_inside_twenty',\n",
       "       'punt_in_endzone', 'punt_out_of_bounds', 'punt_downed',\n",
       "       'punt_fair_catch', 'kickoff_inside_twenty', 'kickoff_in_endzone',\n",
       "       'kickoff_out_of_bounds', 'kickoff_downed', 'kickoff_fair_catch',\n",
       "       'fumble_forced', 'fumble_not_forced', 'fumble_out_of_bounds',\n",
       "       'solo_tackle', 'safety', 'penalty', 'tackled_for_loss', 'fumble_lost',\n",
       "       'own_kickoff_recovery', 'own_kickoff_recovery_td', 'qb_hit',\n",
       "       'rush_attempt', 'pass_attempt', 'sack', 'touchdown', 'pass_touchdown',\n",
       "       'rush_touchdown', 'return_touchdown', 'extra_point_attempt',\n",
       "       'two_point_attempt', 'field_goal_attempt', 'kickoff_attempt',\n",
       "       'punt_attempt', 'fumble', 'complete_pass', 'assist_tackle',\n",
       "       'lateral_reception', 'lateral_rush', 'lateral_return',\n",
       "       'lateral_recovery', 'passer_player_id', 'passer_player_name',\n",
       "       'receiver_player_id', 'receiver_player_name', 'rusher_player_id',\n",
       "       'rusher_player_name', 'lateral_receiver_player_id',\n",
       "       'lateral_receiver_player_name', 'lateral_rusher_player_id',\n",
       "       'lateral_rusher_player_name', 'lateral_sack_player_id',\n",
       "       'lateral_sack_player_name', 'interception_player_id',\n",
       "       'interception_player_name', 'lateral_interception_player_id',\n",
       "       'lateral_interception_player_name', 'punt_returner_player_id',\n",
       "       'punt_returner_player_name', 'lateral_punt_returner_player_id',\n",
       "       'lateral_punt_returner_player_name', 'kickoff_returner_player_name',\n",
       "       'kickoff_returner_player_id', 'lateral_kickoff_returner_player_id',\n",
       "       'lateral_kickoff_returner_player_name', 'punter_player_id',\n",
       "       'punter_player_name', 'kicker_player_name', 'kicker_player_id',\n",
       "       'own_kickoff_recovery_player_id', 'own_kickoff_recovery_player_name',\n",
       "       'blocked_player_id', 'blocked_player_name',\n",
       "       'tackle_for_loss_1_player_id', 'tackle_for_loss_1_player_name',\n",
       "       'tackle_for_loss_2_player_id', 'tackle_for_loss_2_player_name',\n",
       "       'qb_hit_1_player_id', 'qb_hit_1_player_name'],\n",
       "      dtype='object')"
      ]
     },
     "execution_count": 9,
     "metadata": {},
     "output_type": "execute_result"
    }
   ],
   "source": [
    "data.columns[100:200]"
   ]
  },
  {
   "cell_type": "code",
   "execution_count": null,
   "metadata": {},
   "outputs": [],
   "source": []
  }
 ],
 "metadata": {
  "kernelspec": {
   "display_name": "Python 3",
   "language": "python",
   "name": "python3"
  },
  "language_info": {
   "codemirror_mode": {
    "name": "ipython",
    "version": 3
   },
   "file_extension": ".py",
   "mimetype": "text/x-python",
   "name": "python",
   "nbconvert_exporter": "python",
   "pygments_lexer": "ipython3",
   "version": "3.7.3"
  }
 },
 "nbformat": 4,
 "nbformat_minor": 2
}
